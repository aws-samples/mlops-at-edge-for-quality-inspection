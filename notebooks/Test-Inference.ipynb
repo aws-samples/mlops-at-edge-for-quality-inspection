{
 "cells": [
  {
   "cell_type": "markdown",
   "id": "f22efc00",
   "metadata": {
    "pycharm": {
     "name": "#%% md\n"
    }
   },
   "source": [
    "# Test inference"
   ]
  },
  {
   "cell_type": "markdown",
   "id": "95ed740e",
   "metadata": {
    "pycharm": {
     "name": "#%% md\n"
    }
   },
   "source": [
    "This is a helper notebook to test and visualize the inferences done by the demo edge device deployed as part of the MLOps @ Edge example. "
   ]
  },
  {
   "cell_type": "code",
   "execution_count": null,
   "id": "5ffb43df",
   "metadata": {
    "pycharm": {
     "name": "#%%\n"
    },
    "tags": []
   },
   "outputs": [],
   "source": [
    "# create required thing and certificates to allow communication wiht AWS IoT core\n",
    "THING_NAME=\"inference-notebook\"\n",
    "!certs/create-thing.sh $THING_NAME\n",
    "ENDPOINT=!aws iot describe-endpoint --endpoint-type iot:Data-ATS --output text\n",
    "ENDPOINT = ENDPOINT[0]\n",
    "print(f'Endpoint is {ENDPOINT}')^"
   ]
  },
  {
   "cell_type": "code",
   "execution_count": null,
   "id": "afed409e-c5dc-43ac-a6c6-936842a1810e",
   "metadata": {
    "tags": []
   },
   "outputs": [],
   "source": [
    "THING_NAME=\"inference-notebook\"\n",
    "ENDPOINT=!aws iot describe-endpoint --endpoint-type iot:Data-ATS --output text\n",
    "ENDPOINT = ENDPOINT[0]\n",
    "print(f'Endpoint is {ENDPOINT}')"
   ]
  },
  {
   "cell_type": "code",
   "execution_count": null,
   "id": "ef582455",
   "metadata": {
    "pycharm": {
     "name": "#%%\n"
    },
    "tags": []
   },
   "outputs": [],
   "source": [
    "# install required dependencies\n",
    "!apt-get -qq update\n",
    "!apt-get install -qq ffmpeg libsm6 libxext6  -y\n",
    "!pip install -qq paho-mqtt gluoncv mxnet opencv-python"
   ]
  },
  {
   "cell_type": "code",
   "execution_count": 4,
   "id": "f8ce6a06",
   "metadata": {
    "pycharm": {
     "name": "#%%\n"
    },
    "tags": []
   },
   "outputs": [],
   "source": [
    "import paho.mqtt.client as paho\n",
    "import os\n",
    "import socket\n",
    "import ssl\n",
    "from time import sleep\n",
    "from random import uniform\n",
    "import json\n",
    "import traceback\n",
    "import logging\n",
    "logging.basicConfig(level=logging.INFO)\n",
    "import json\n",
    "from gluoncv.utils import download, viz\n",
    "import cv2\n",
    "from matplotlib import pyplot as plt\n",
    "import numpy as np\n",
    "classes = ['scratch']\n",
    "from IPython.display import clear_output\n",
    "import matplotlib.pyplot as plt\n",
    "import matplotlib.patches as patches\n",
    "from PIL import Image\n",
    "\n",
    "\n",
    "class PubSub(object):\n",
    "\n",
    "    def __init__(self, listener = False, topic = \"default\"):\n",
    "        self.connect = False\n",
    "        self.listener = listener\n",
    "        self.topic = topic\n",
    "        self.logger = logging.getLogger(repr(self))\n",
    "\n",
    "    def __visualize_payload(self,message_string):\n",
    "        clear_output(wait=True)\n",
    "        inference_message = json.loads(message_string)\n",
    "        print(inference_message['inference_results'])\n",
    "        image = f\"../inference/lib/assets/gg_components/artifacts/qualityinspection/sample_images/{inference_message['image_name']}\"\n",
    "        bboxes = np.array(inference_message['inference_results'][0][1][0])\n",
    "        ##bboxes = self.scale_bounding_boxes(bboxes,450,450,450,300) \n",
    "        score = np.array(inference_message['inference_results'][0][0][0])\n",
    "        cid = np.zeros(len(bboxes))\n",
    "        self.logger.info(f\"Received predictions for image {inference_message['image_name']} bbox: {bboxes} score {score}\")\n",
    "        self.plot_bounding_boxes(image, bboxes, score)\n",
    "        \n",
    "        #viz.plot_bbox(image, bbox,score,cid, class_names=classes, thresh=0.01)\n",
    "        plt.show()\n",
    "    def __on_connect(self, client, userdata, flags, rc):\n",
    "        self.connect = True\n",
    "        \n",
    "        if self.listener:\n",
    "            self.mqttc.subscribe(self.topic)\n",
    "\n",
    "        self.logger.debug(\"{0}\".format(rc))\n",
    "\n",
    "    def __on_message(self, client, userdata, msg):\n",
    "        \n",
    "        #self.logger.info(\"{0}, {1} - {2}\".format(userdata, msg.topic, msg.payload))\n",
    "        try:\n",
    "            message_string = msg.payload.decode()\n",
    "            self.__visualize_payload(message_string)\n",
    "        except:\n",
    "            traceback.print_exc()\n",
    "            pass\n",
    "\n",
    "    def __on_log(self, client, userdata, level, buf):\n",
    "        self.logger.debug(\"{0}, {1}, {2}, {3}\".format(client, userdata, level, buf))\n",
    "\n",
    "\n",
    "    \n",
    "    def bootstrap_mqtt(self):\n",
    "\n",
    "        self.mqttc = paho.Client()\n",
    "        self.mqttc.on_connect = self.__on_connect\n",
    "        self.mqttc.on_message = self.__on_message\n",
    "        self.mqttc.on_log = self.__on_log\n",
    "\n",
    "        awshost = ENDPOINT\n",
    "        awsport = 8883\n",
    "\n",
    "        caPath = \"./certs/AmazonRootCA1.pem\" # Root certificate authority, comes from AWS with a long, long name\n",
    "        certPath = f\"./certs/{THING_NAME}-certificate.pem.crt\"\n",
    "        keyPath = f\"./certs/{THING_NAME}-private.pem.key\"\n",
    "\n",
    "        self.mqttc.tls_set(caPath, \n",
    "            certfile=certPath, \n",
    "            keyfile=keyPath, \n",
    "            cert_reqs=ssl.CERT_REQUIRED, \n",
    "            tls_version=ssl.PROTOCOL_TLSv1_2, \n",
    "            ciphers=None)\n",
    "\n",
    "        result_of_connection = self.mqttc.connect(awshost, awsport, keepalive=120)\n",
    "\n",
    "        if result_of_connection == 0:\n",
    "            self.connect = True\n",
    "\n",
    "        return self\n",
    "\n",
    "\n",
    "    def scale_bounding_boxes(self,bounding_boxes, orig_width, orig_height, new_width, new_height):\n",
    "        scaled_boxes = []\n",
    "        width_ratio = new_width / orig_width\n",
    "        height_ratio = new_height / orig_height\n",
    "\n",
    "        for bbox in bounding_boxes:\n",
    "            x, y, width, height = bbox\n",
    "\n",
    "            scaled_x = x * width_ratio\n",
    "            scaled_y = y * height_ratio\n",
    "            scaled_width = width * width_ratio\n",
    "            scaled_height = height * height_ratio\n",
    "\n",
    "            scaled_boxes.append([scaled_x, scaled_y, scaled_width, scaled_height])\n",
    "\n",
    "        return scaled_boxes\n",
    "    \n",
    "    \n",
    "    def plot_bounding_boxes(self,image_path, bounding_boxes, confidence_scores):\n",
    "        # Load the image\n",
    "        image = Image.open(image_path)\n",
    "\n",
    "        # Create a figure and axis\n",
    "        fig, ax = plt.subplots(1)\n",
    "\n",
    "        # Display the image\n",
    "        ax.imshow(image)\n",
    "\n",
    "        # Iterate over the bounding boxes\n",
    "        for bbox, score in zip(bounding_boxes, confidence_scores):\n",
    "            # Extract the coordinates\n",
    "            x, y, width, height = bbox\n",
    "\n",
    "            # Create a rectangle patch\n",
    "            rect = patches.Rectangle((x, y), width, height, linewidth=1, edgecolor='r', facecolor='none')\n",
    "\n",
    "            # Add the rectangle patch to the axis\n",
    "            ax.add_patch(rect)\n",
    "\n",
    "            # Add the confidence score as text\n",
    "            ax.text(x, y, f'{score:.2f}', color='r', fontsize=8)\n",
    "\n",
    "        # Show the plot\n",
    "        plt.show()\n",
    "    \n",
    "    \n",
    "    def start(self):\n",
    "        self.mqttc.loop_start()\n",
    "\n",
    "        while True:\n",
    "            sleep(2)\n",
    "            if self.connect == True:\n",
    "                pass\n",
    "                #print(\"Connected\")\n",
    "                #self.mqttc.publish(self.topic, json.dumps({\"message\": \"Hello COMP680\"}), qos=1)\n",
    "            else:\n",
    "                self.logger.debug(\"Attempting to connect.\")  \n",
    "    \n",
    "\n",
    "        \n"
   ]
  },
  {
   "cell_type": "code",
   "execution_count": 5,
   "id": "b5c8c19d",
   "metadata": {
    "pycharm": {
     "name": "#%%\n"
    },
    "tags": []
   },
   "outputs": [
    {
     "name": "stderr",
     "output_type": "stream",
     "text": [
      "INFO:<__main__.PubSub object at 0x7f309c7b70d0>:Received predictions for image image-2020-04-22-10-51-51-85-cropped-right-bottom.jpg bbox: [] score []\n"
     ]
    },
    {
     "name": "stdout",
     "output_type": "stream",
     "text": [
      "[[[[]], [[]]]]\n"
     ]
    },
    {
     "data": {
      "image/png": "[encoded data removed]",
      "text/plain": [
       "<Figure size 640x480 with 1 Axes>"
      ]
     },
     "metadata": {},
     "output_type": "display_data"
    }
   ],
   "source": [
    "PubSub(listener = True, topic = \"qualityinspection/scratch-detection\").bootstrap_mqtt().start()"
   ]
  },
  {
   "cell_type": "code",
   "execution_count": null,
   "id": "9be214de-c059-42ca-997c-122a94af4075",
   "metadata": {},
   "outputs": [],
   "source": []
  }
 ],
 "metadata": {
  "availableInstances": [
   {
    "_defaultOrder": 0,
    "_isFastLaunch": true,
    "category": "General purpose",
    "gpuNum": 0,
    "hideHardwareSpecs": false,
    "memoryGiB": 4,
    "name": "ml.t3.medium",
    "vcpuNum": 2
   },
   {
    "_defaultOrder": 1,
    "_isFastLaunch": false,
    "category": "General purpose",
    "gpuNum": 0,
    "hideHardwareSpecs": false,
    "memoryGiB": 8,
    "name": "ml.t3.large",
    "vcpuNum": 2
   },
   {
    "_defaultOrder": 2,
    "_isFastLaunch": false,
    "category": "General purpose",
    "gpuNum": 0,
    "hideHardwareSpecs": false,
    "memoryGiB": 16,
    "name": "ml.t3.xlarge",
    "vcpuNum": 4
   },
   {
    "_defaultOrder": 3,
    "_isFastLaunch": false,
    "category": "General purpose",
    "gpuNum": 0,
    "hideHardwareSpecs": false,
    "memoryGiB": 32,
    "name": "ml.t3.2xlarge",
    "vcpuNum": 8
   },
   {
    "_defaultOrder": 4,
    "_isFastLaunch": true,
    "category": "General purpose",
    "gpuNum": 0,
    "hideHardwareSpecs": false,
    "memoryGiB": 8,
    "name": "ml.m5.large",
    "vcpuNum": 2
   },
   {
    "_defaultOrder": 5,
    "_isFastLaunch": false,
    "category": "General purpose",
    "gpuNum": 0,
    "hideHardwareSpecs": false,
    "memoryGiB": 16,
    "name": "ml.m5.xlarge",
    "vcpuNum": 4
   },
   {
    "_defaultOrder": 6,
    "_isFastLaunch": false,
    "category": "General purpose",
    "gpuNum": 0,
    "hideHardwareSpecs": false,
    "memoryGiB": 32,
    "name": "ml.m5.2xlarge",
    "vcpuNum": 8
   },
   {
    "_defaultOrder": 7,
    "_isFastLaunch": false,
    "category": "General purpose",
    "gpuNum": 0,
    "hideHardwareSpecs": false,
    "memoryGiB": 64,
    "name": "ml.m5.4xlarge",
    "vcpuNum": 16
   },
   {
    "_defaultOrder": 8,
    "_isFastLaunch": false,
    "category": "General purpose",
    "gpuNum": 0,
    "hideHardwareSpecs": false,
    "memoryGiB": 128,
    "name": "ml.m5.8xlarge",
    "vcpuNum": 32
   },
   {
    "_defaultOrder": 9,
    "_isFastLaunch": false,
    "category": "General purpose",
    "gpuNum": 0,
    "hideHardwareSpecs": false,
    "memoryGiB": 192,
    "name": "ml.m5.12xlarge",
    "vcpuNum": 48
   },
   {
    "_defaultOrder": 10,
    "_isFastLaunch": false,
    "category": "General purpose",
    "gpuNum": 0,
    "hideHardwareSpecs": false,
    "memoryGiB": 256,
    "name": "ml.m5.16xlarge",
    "vcpuNum": 64
   },
   {
    "_defaultOrder": 11,
    "_isFastLaunch": false,
    "category": "General purpose",
    "gpuNum": 0,
    "hideHardwareSpecs": false,
    "memoryGiB": 384,
    "name": "ml.m5.24xlarge",
    "vcpuNum": 96
   },
   {
    "_defaultOrder": 12,
    "_isFastLaunch": false,
    "category": "General purpose",
    "gpuNum": 0,
    "hideHardwareSpecs": false,
    "memoryGiB": 8,
    "name": "ml.m5d.large",
    "vcpuNum": 2
   },
   {
    "_defaultOrder": 13,
    "_isFastLaunch": false,
    "category": "General purpose",
    "gpuNum": 0,
    "hideHardwareSpecs": false,
    "memoryGiB": 16,
    "name": "ml.m5d.xlarge",
    "vcpuNum": 4
   },
   {
    "_defaultOrder": 14,
    "_isFastLaunch": false,
    "category": "General purpose",
    "gpuNum": 0,
    "hideHardwareSpecs": false,
    "memoryGiB": 32,
    "name": "ml.m5d.2xlarge",
    "vcpuNum": 8
   },
   {
    "_defaultOrder": 15,
    "_isFastLaunch": false,
    "category": "General purpose",
    "gpuNum": 0,
    "hideHardwareSpecs": false,
    "memoryGiB": 64,
    "name": "ml.m5d.4xlarge",
    "vcpuNum": 16
   },
   {
    "_defaultOrder": 16,
    "_isFastLaunch": false,
    "category": "General purpose",
    "gpuNum": 0,
    "hideHardwareSpecs": false,
    "memoryGiB": 128,
    "name": "ml.m5d.8xlarge",
    "vcpuNum": 32
   },
   {
    "_defaultOrder": 17,
    "_isFastLaunch": false,
    "category": "General purpose",
    "gpuNum": 0,
    "hideHardwareSpecs": false,
    "memoryGiB": 192,
    "name": "ml.m5d.12xlarge",
    "vcpuNum": 48
   },
   {
    "_defaultOrder": 18,
    "_isFastLaunch": false,
    "category": "General purpose",
    "gpuNum": 0,
    "hideHardwareSpecs": false,
    "memoryGiB": 256,
    "name": "ml.m5d.16xlarge",
    "vcpuNum": 64
   },
   {
    "_defaultOrder": 19,
    "_isFastLaunch": false,
    "category": "General purpose",
    "gpuNum": 0,
    "hideHardwareSpecs": false,
    "memoryGiB": 384,
    "name": "ml.m5d.24xlarge",
    "vcpuNum": 96
   },
   {
    "_defaultOrder": 20,
    "_isFastLaunch": false,
    "category": "General purpose",
    "gpuNum": 0,
    "hideHardwareSpecs": true,
    "memoryGiB": 0,
    "name": "ml.geospatial.interactive",
    "supportedImageNames": [
     "sagemaker-geospatial-v1-0"
    ],
    "vcpuNum": 0
   },
   {
    "_defaultOrder": 21,
    "_isFastLaunch": true,
    "category": "Compute optimized",
    "gpuNum": 0,
    "hideHardwareSpecs": false,
    "memoryGiB": 4,
    "name": "ml.c5.large",
    "vcpuNum": 2
   },
   {
    "_defaultOrder": 22,
    "_isFastLaunch": false,
    "category": "Compute optimized",
    "gpuNum": 0,
    "hideHardwareSpecs": false,
    "memoryGiB": 8,
    "name": "ml.c5.xlarge",
    "vcpuNum": 4
   },
   {
    "_defaultOrder": 23,
    "_isFastLaunch": false,
    "category": "Compute optimized",
    "gpuNum": 0,
    "hideHardwareSpecs": false,
    "memoryGiB": 16,
    "name": "ml.c5.2xlarge",
    "vcpuNum": 8
   },
   {
    "_defaultOrder": 24,
    "_isFastLaunch": false,
    "category": "Compute optimized",
    "gpuNum": 0,
    "hideHardwareSpecs": false,
    "memoryGiB": 32,
    "name": "ml.c5.4xlarge",
    "vcpuNum": 16
   },
   {
    "_defaultOrder": 25,
    "_isFastLaunch": false,
    "category": "Compute optimized",
    "gpuNum": 0,
    "hideHardwareSpecs": false,
    "memoryGiB": 72,
    "name": "ml.c5.9xlarge",
    "vcpuNum": 36
   },
   {
    "_defaultOrder": 26,
    "_isFastLaunch": false,
    "category": "Compute optimized",
    "gpuNum": 0,
    "hideHardwareSpecs": false,
    "memoryGiB": 96,
    "name": "ml.c5.12xlarge",
    "vcpuNum": 48
   },
   {
    "_defaultOrder": 27,
    "_isFastLaunch": false,
    "category": "Compute optimized",
    "gpuNum": 0,
    "hideHardwareSpecs": false,
    "memoryGiB": 144,
    "name": "ml.c5.18xlarge",
    "vcpuNum": 72
   },
   {
    "_defaultOrder": 28,
    "_isFastLaunch": false,
    "category": "Compute optimized",
    "gpuNum": 0,
    "hideHardwareSpecs": false,
    "memoryGiB": 192,
    "name": "ml.c5.24xlarge",
    "vcpuNum": 96
   },
   {
    "_defaultOrder": 29,
    "_isFastLaunch": true,
    "category": "Accelerated computing",
    "gpuNum": 1,
    "hideHardwareSpecs": false,
    "memoryGiB": 16,
    "name": "ml.g4dn.xlarge",
    "vcpuNum": 4
   },
   {
    "_defaultOrder": 30,
    "_isFastLaunch": false,
    "category": "Accelerated computing",
    "gpuNum": 1,
    "hideHardwareSpecs": false,
    "memoryGiB": 32,
    "name": "ml.g4dn.2xlarge",
    "vcpuNum": 8
   },
   {
    "_defaultOrder": 31,
    "_isFastLaunch": false,
    "category": "Accelerated computing",
    "gpuNum": 1,
    "hideHardwareSpecs": false,
    "memoryGiB": 64,
    "name": "ml.g4dn.4xlarge",
    "vcpuNum": 16
   },
   {
    "_defaultOrder": 32,
    "_isFastLaunch": false,
    "category": "Accelerated computing",
    "gpuNum": 1,
    "hideHardwareSpecs": false,
    "memoryGiB": 128,
    "name": "ml.g4dn.8xlarge",
    "vcpuNum": 32
   },
   {
    "_defaultOrder": 33,
    "_isFastLaunch": false,
    "category": "Accelerated computing",
    "gpuNum": 4,
    "hideHardwareSpecs": false,
    "memoryGiB": 192,
    "name": "ml.g4dn.12xlarge",
    "vcpuNum": 48
   },
   {
    "_defaultOrder": 34,
    "_isFastLaunch": false,
    "category": "Accelerated computing",
    "gpuNum": 1,
    "hideHardwareSpecs": false,
    "memoryGiB": 256,
    "name": "ml.g4dn.16xlarge",
    "vcpuNum": 64
   },
   {
    "_defaultOrder": 35,
    "_isFastLaunch": false,
    "category": "Accelerated computing",
    "gpuNum": 1,
    "hideHardwareSpecs": false,
    "memoryGiB": 61,
    "name": "ml.p3.2xlarge",
    "vcpuNum": 8
   },
   {
    "_defaultOrder": 36,
    "_isFastLaunch": false,
    "category": "Accelerated computing",
    "gpuNum": 4,
    "hideHardwareSpecs": false,
    "memoryGiB": 244,
    "name": "ml.p3.8xlarge",
    "vcpuNum": 32
   },
   {
    "_defaultOrder": 37,
    "_isFastLaunch": false,
    "category": "Accelerated computing",
    "gpuNum": 8,
    "hideHardwareSpecs": false,
    "memoryGiB": 488,
    "name": "ml.p3.16xlarge",
    "vcpuNum": 64
   },
   {
    "_defaultOrder": 38,
    "_isFastLaunch": false,
    "category": "Accelerated computing",
    "gpuNum": 8,
    "hideHardwareSpecs": false,
    "memoryGiB": 768,
    "name": "ml.p3dn.24xlarge",
    "vcpuNum": 96
   },
   {
    "_defaultOrder": 39,
    "_isFastLaunch": false,
    "category": "Memory Optimized",
    "gpuNum": 0,
    "hideHardwareSpecs": false,
    "memoryGiB": 16,
    "name": "ml.r5.large",
    "vcpuNum": 2
   },
   {
    "_defaultOrder": 40,
    "_isFastLaunch": false,
    "category": "Memory Optimized",
    "gpuNum": 0,
    "hideHardwareSpecs": false,
    "memoryGiB": 32,
    "name": "ml.r5.xlarge",
    "vcpuNum": 4
   },
   {
    "_defaultOrder": 41,
    "_isFastLaunch": false,
    "category": "Memory Optimized",
    "gpuNum": 0,
    "hideHardwareSpecs": false,
    "memoryGiB": 64,
    "name": "ml.r5.2xlarge",
    "vcpuNum": 8
   },
   {
    "_defaultOrder": 42,
    "_isFastLaunch": false,
    "category": "Memory Optimized",
    "gpuNum": 0,
    "hideHardwareSpecs": false,
    "memoryGiB": 128,
    "name": "ml.r5.4xlarge",
    "vcpuNum": 16
   },
   {
    "_defaultOrder": 43,
    "_isFastLaunch": false,
    "category": "Memory Optimized",
    "gpuNum": 0,
    "hideHardwareSpecs": false,
    "memoryGiB": 256,
    "name": "ml.r5.8xlarge",
    "vcpuNum": 32
   },
   {
    "_defaultOrder": 44,
    "_isFastLaunch": false,
    "category": "Memory Optimized",
    "gpuNum": 0,
    "hideHardwareSpecs": false,
    "memoryGiB": 384,
    "name": "ml.r5.12xlarge",
    "vcpuNum": 48
   },
   {
    "_defaultOrder": 45,
    "_isFastLaunch": false,
    "category": "Memory Optimized",
    "gpuNum": 0,
    "hideHardwareSpecs": false,
    "memoryGiB": 512,
    "name": "ml.r5.16xlarge",
    "vcpuNum": 64
   },
   {
    "_defaultOrder": 46,
    "_isFastLaunch": false,
    "category": "Memory Optimized",
    "gpuNum": 0,
    "hideHardwareSpecs": false,
    "memoryGiB": 768,
    "name": "ml.r5.24xlarge",
    "vcpuNum": 96
   },
   {
    "_defaultOrder": 47,
    "_isFastLaunch": false,
    "category": "Accelerated computing",
    "gpuNum": 1,
    "hideHardwareSpecs": false,
    "memoryGiB": 16,
    "name": "ml.g5.xlarge",
    "vcpuNum": 4
   },
   {
    "_defaultOrder": 48,
    "_isFastLaunch": false,
    "category": "Accelerated computing",
    "gpuNum": 1,
    "hideHardwareSpecs": false,
    "memoryGiB": 32,
    "name": "ml.g5.2xlarge",
    "vcpuNum": 8
   },
   {
    "_defaultOrder": 49,
    "_isFastLaunch": false,
    "category": "Accelerated computing",
    "gpuNum": 1,
    "hideHardwareSpecs": false,
    "memoryGiB": 64,
    "name": "ml.g5.4xlarge",
    "vcpuNum": 16
   },
   {
    "_defaultOrder": 50,
    "_isFastLaunch": false,
    "category": "Accelerated computing",
    "gpuNum": 1,
    "hideHardwareSpecs": false,
    "memoryGiB": 128,
    "name": "ml.g5.8xlarge",
    "vcpuNum": 32
   },
   {
    "_defaultOrder": 51,
    "_isFastLaunch": false,
    "category": "Accelerated computing",
    "gpuNum": 1,
    "hideHardwareSpecs": false,
    "memoryGiB": 256,
    "name": "ml.g5.16xlarge",
    "vcpuNum": 64
   },
   {
    "_defaultOrder": 52,
    "_isFastLaunch": false,
    "category": "Accelerated computing",
    "gpuNum": 4,
    "hideHardwareSpecs": false,
    "memoryGiB": 192,
    "name": "ml.g5.12xlarge",
    "vcpuNum": 48
   },
   {
    "_defaultOrder": 53,
    "_isFastLaunch": false,
    "category": "Accelerated computing",
    "gpuNum": 4,
    "hideHardwareSpecs": false,
    "memoryGiB": 384,
    "name": "ml.g5.24xlarge",
    "vcpuNum": 96
   },
   {
    "_defaultOrder": 54,
    "_isFastLaunch": false,
    "category": "Accelerated computing",
    "gpuNum": 8,
    "hideHardwareSpecs": false,
    "memoryGiB": 768,
    "name": "ml.g5.48xlarge",
    "vcpuNum": 192
   },
   {
    "_defaultOrder": 55,
    "_isFastLaunch": false,
    "category": "Accelerated computing",
    "gpuNum": 8,
    "hideHardwareSpecs": false,
    "memoryGiB": 1152,
    "name": "ml.p4d.24xlarge",
    "vcpuNum": 96
   },
   {
    "_defaultOrder": 56,
    "_isFastLaunch": false,
    "category": "Accelerated computing",
    "gpuNum": 8,
    "hideHardwareSpecs": false,
    "memoryGiB": 1152,
    "name": "ml.p4de.24xlarge",
    "vcpuNum": 96
   }
  ],
  "instance_type": "ml.t3.medium",
  "kernelspec": {
   "display_name": "Python 3 (Data Science)",
   "language": "python",
   "name": "python3__SAGEMAKER_INTERNAL__arn:aws:sagemaker:eu-west-1:470317259841:image/datascience-1.0"
  },
  "language_info": {
   "codemirror_mode": {
    "name": "ipython",
    "version": 3
   },
   "file_extension": ".py",
   "mimetype": "text/x-python",
   "name": "python",
   "nbconvert_exporter": "python",
   "pygments_lexer": "ipython3",
   "version": "3.7.10"
  },
  "vscode": {
   "interpreter": {
    "hash": "136b9265a7fdca50a8570235dbc6eb84109480dab07d5118e880ffa74c79392f"
   }
  }
 },
 "nbformat": 4,
 "nbformat_minor": 5
}
